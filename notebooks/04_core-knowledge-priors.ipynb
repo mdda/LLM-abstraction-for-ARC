{
 "cells": [
  {
   "cell_type": "markdown",
   "id": "13141a5a-1b89-43cc-904e-17579842ccc4",
   "metadata": {},
   "source": [
    "## Priors from the [ARC paper](https://arxiv.org/abs/1911.01547)\n",
    "#### III.1.2 Core Knowledge priors = page=46.62\n",
    "\n",
    "* Idea : This has to be comprehensive, since Chollet claims it is the basis of ARC itself"
   ]
  },
  {
   "cell_type": "markdown",
   "id": "48a57507",
   "metadata": {},
   "source": [
    "* a. **Objectness priors**:\n",
    "  + *Object cohesion:* Ability to parse grids into “objects” based on continuity criteria including:\n",
    "    - color continuity or spatial contiguity (figure 5)\n",
    "      + _Figure 5: Left, objects defined by spatial contiguity. Right, objects defined by color continuity._\n",
    "    - ability to parse grids into zones, partitions.\n",
    "  + *Object persistence:* Objects are assumed to persist despite :\n",
    "    - the presence of noise (figure 6)\n",
    "      + _Figure 6: A denoising task._\n",
    "    - occlusion by other objects.\n",
    "    - In many cases (but not all) objects from the input persist on the output grid, often in a transformed form.\n",
    "      + Common geometric transformations of objects are covered in category (d), “basic geometry and topology priors”.\n",
    "  + *Object influence via contact:* Many tasks feature physical contact between objects\n",
    "    - e.g. one object being translated until it is in contact with another (figure 7),\n",
    "      + _Figure 7: The red object “moves” towards the blue object until “contact”._\n",
    "    - or a line “growing” until it “rebounds” against another object (figure 8).\n",
    "      + _Figure 8: A task where the implicit goal is to extrapolate a diagonal line that “rebounds” upon contact with a red obstacle._\n",
    "* b. **Goal-directedness prior**:\n",
    "  + While ARC does not feature the concept of time, many of the input/output grids can be effectively modeled by humans as being the starting and end states of a process that involves intentionality (e.g. figure 9).\n",
    "    - _Figure 9: A task that combines the concepts of “line extrapolation”, “turning on obstacle”, and “efficiently reaching a goal” (the actual task has more demonstration pairs than these three)._\n",
    "  + As such, the goal-directedness prior may not be strictly necessary to solve ARC, but it is likely to be useful.\n",
    "* c. **Numbers and Counting priors**:\n",
    "  + Many ARC tasks involve counting or sorting objects (e.g. sorting by size), comparing numbers\n",
    "    - (e.g. which shape or symbol appears the most (e.g. figure 10)?\n",
    "      + _Figure 10: A task where the implicit goal is to count unique objects and select the object that appears the most times (the actual task has more demonstration pairs than these three)._\n",
    "    - The least?\n",
    "    - The same number of times?\n",
    "    - Which is the largest object?\n",
    "    - The smallest?\n",
    "    - Which objects are the same size?),\n",
    "  + or repeating a pattern for a fixed number of time.\n",
    "  + The notions of addition and subtraction are also featured (as they are part of the Core Knowledge number system as per [85]).\n",
    "  + All quantities featured in ARC are smaller than approximately 10.\n",
    "* d. **Basic Geometry and Topology priors**:\n",
    "  + ARC tasks feature a range of elementary geometry and topology concepts, in particular:\n",
    "    - Lines, rectangular shapes (regular shapes are more likely to appear than complex shapes).\n",
    "    - Symmetries (e.g. figure 11), rotations, translations.\n",
    "      * _Figure 11: Drawing the symmetrized version of a shape around a marker. Many tasks involve some form of symmetry._\n",
    "    - Shape upscaling or downscaling, elastic distortions.\n",
    "    - Containing / being contained / being inside or outside of a perimeter.\n",
    "    - Drawing lines, connecting points, orthogonal projections.\n",
    "    - Copying, repeating objects.\n",
    "  "
   ]
  },
  {
   "cell_type": "markdown",
   "id": "76bed4b7-daed-477c-b99c-7e829651e52e",
   "metadata": {},
   "source": [
    "## LLM-ready version"
   ]
  },
  {
   "cell_type": "code",
   "execution_count": 1,
   "id": "1c9d4f3b-94df-4781-b755-8f976b812599",
   "metadata": {},
   "outputs": [],
   "source": [
    "%load_ext autoreload\n",
    "%autoreload 2"
   ]
  },
  {
   "cell_type": "code",
   "execution_count": 2,
   "id": "db685114-065c-41f5-b099-877c0b9511e6",
   "metadata": {},
   "outputs": [],
   "source": [
    "import arc_mdda.core_knowledge"
   ]
  },
  {
   "cell_type": "code",
   "execution_count": 3,
   "id": "f2ca2ede-9f21-4cce-8715-1340868585b9",
   "metadata": {},
   "outputs": [
    {
     "name": "stdout",
     "output_type": "stream",
     "text": [
      "# ARC Challenge problems\n",
      "Each problem in the ARC Challenge requires understanding the way in which several \"input grids\" can be transformed into corresponding \"output grids\".  \n",
      "Several demonstration pairs are shown, and the solution involves describing how an unknown \"output grid\" can be derived from the given test \"input grid\".\n",
      "To do this, we will be doing extensive code analysis.\n",
      "\n"
     ]
    }
   ],
   "source": [
    "print(arc_mdda.core_knowledge.prelude)"
   ]
  },
  {
   "cell_type": "code",
   "execution_count": 6,
   "id": "128570d3-e57a-427d-8b65-b2f545b4e075",
   "metadata": {},
   "outputs": [],
   "source": [
    "#print(arc_mdda.core_knowledge.output_format)"
   ]
  },
  {
   "cell_type": "code",
   "execution_count": 7,
   "id": "d7a9ae5f-87ba-49ee-a808-162c0911e1e2",
   "metadata": {},
   "outputs": [
    {
     "name": "stdout",
     "output_type": "stream",
     "text": [
      "## Core Knowledge\n",
      "Solving ARC problems requires understanding and applying Core Knowledge concepts relating to spatial reasoning, object manipulation, and basic mathematical principles. These concepts include:\n",
      "\n",
      "* **Object cohesion**:\n",
      "  + Ability to parse grids :\n",
      "    - identifying distinct objects within the grid based on properties like:\n",
      "      + For instance: color continuity, spatial contiguity, repeated patterns, or symmetries\n",
      "    - segmenting the grid into zones or partitions, which can be treated as sub-grids\n",
      "      + For instance: dividing a grid with delineated quadrants into separate, potentially inter-related sub-grids                   \n",
      "* **Object persistence**:\n",
      "  + Objects are assumed to persist despite the presence of noise or occlusion by other objects\n",
      "    - For example, if a square is partially covered by a triangle, the solver should still recognize the underlying square\n",
      "    - While generally true, there are cases where objects might disappear or transform significantly\n",
      "  + In many cases, objects from the input grid persist on the output grid, but in a transformed form but in a transformed form (e.g., rotated, scaled, or recolored)\n",
      "* **Object influence via contact**: \n",
      "  + Many problems feature physical contact between objects\n",
      "    - For instance: one object being translated until it is in contact with another\n",
      "    - Other examples: a line extending until it touches another shape; objects snapping to a grid; or an object being 'pushed' by another\n",
      "* **Basic Geometry and Topology priors**:\n",
      "  + Geometric and topological reasoning is crucial. Commonly encountered concepts include:\n",
      "    - Shapes: Lines, rectangles and simple shapes;  Other objects that occur are likely to have simple motifs\n",
      "    - Transformations: rotation, translation, mirroring, flipping, scaling (overall or horizontal/vertical)\n",
      "    - Relationships: Containing/contained, inside/outside perimeter, corners, parallel lines, topological connectedness, set relationships (inclusion, intersection, disjointness).\n",
      "    - Actions: Drawing lines, connecting points, orthogonal projections, copying, repeating objects\n",
      "    - Self-similarity via symmetries such as rotations and mirroring\n",
      "* **Numbers and Counting priors**:\n",
      "  + Many ARC problems involve counting or sorting objects and/or comparing numbers, for instance:\n",
      "    - Which shape or symbol appears most / least / same number of times?\n",
      "    - Which object is the largest / smallest?\n",
      "    - Which objects are the same size / color?\n",
      "  + Similarly actions being taken might depend on counting and/or comparing numbers\n",
      "    - For example: Repeating a single shape a number of times depending on the number of different shapes present\n",
      "  + Simple arithmetic operations (addition, subtraction, multiplication, division), although all quantities featured will be small integers less than (say) 10\n",
      "* **Goal-directedness prior**:\n",
      "  + Many ARC problems can be interpreted as depicting a sequence of actions with a specific goal\n",
      "  + For instance: \n",
      "    - A problem might combines the concepts of \"line extrapolation\", \"turning upon hitting an obstacle\", and \"efficiently reaching a goal\"\n",
      "    - Arranging objects to fill a container or constructing a symmetrical pattern\n",
      "  + Some ARC problems might imply a need for planning or simulating steps towards a solution\n",
      "* **Compositionality**:\n",
      "  + Successfully solving ARC problems often requires chaining the above concepts together\n",
      "    - For instance: First identifying simply connected components (cohesion), then counting them (numerical), and finally replicating the largest component multiple times side-by-side (geometry)\n",
      "    - For instance: First grouping shapes by color (cohesion and color), sorting them by size (numerical), recoloring the most frequent (numerical and color), and reflecting it across a vertical axis (geometry and symmetry)\n",
      "\n"
     ]
    }
   ],
   "source": [
    "print(arc_mdda.core_knowledge.description)"
   ]
  },
  {
   "cell_type": "code",
   "execution_count": 8,
   "id": "66f64d57-e087-4ce9-88cf-ca256b2a8747",
   "metadata": {
    "lines_to_next_cell": 0
   },
   "outputs": [],
   "source": [
    "#print(arc_mdda.core_knowledge.combinations)"
   ]
  },
  {
   "cell_type": "code",
   "execution_count": null,
   "id": "e44cf0a0-55ac-4df0-ae17-33e433dda7e9",
   "metadata": {
    "lines_to_next_cell": 2
   },
   "outputs": [],
   "source": []
  }
 ],
 "metadata": {
  "jupytext": {
   "cell_metadata_filter": "-all",
   "formats": "cache-notebooks//ipynb,py:light"
  },
  "kernelspec": {
   "display_name": "Python 3 (ipykernel)",
   "language": "python",
   "name": "python3"
  },
  "language_info": {
   "codemirror_mode": {
    "name": "ipython",
    "version": 3
   },
   "file_extension": ".py",
   "mimetype": "text/x-python",
   "name": "python",
   "nbconvert_exporter": "python",
   "pygments_lexer": "ipython3",
   "version": "3.12.5"
  }
 },
 "nbformat": 4,
 "nbformat_minor": 5
}
